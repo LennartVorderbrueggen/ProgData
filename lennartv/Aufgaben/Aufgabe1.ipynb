{
 "cells": [
  {
   "cell_type": "markdown",
   "metadata": {
    "deletable": false,
    "editable": false,
    "nbgrader": {
     "cell_type": "markdown",
     "checksum": "2c354f5b464b12c03cdc1e9abda338a2",
     "grade": false,
     "grade_id": "cell-f36bcc18e21d4416",
     "locked": true,
     "schema_version": 3,
     "solution": false,
     "task": false
    },
    "slideshow": {
     "slide_type": "slide"
    }
   },
   "source": [
    "# Aufgabensatz 1\n",
    "Zum Start gibt es nun ein paar kleinere Übungen um mit Python warm zu werden"
   ]
  },
  {
   "cell_type": "markdown",
   "metadata": {
    "deletable": false,
    "editable": false,
    "nbgrader": {
     "cell_type": "markdown",
     "checksum": "5e0d2fb4bf059e7f6bc9dc58a0c57e21",
     "grade": false,
     "grade_id": "cell-05f1a795125b76ca",
     "locked": true,
     "schema_version": 3,
     "solution": false,
     "task": false
    },
    "slideshow": {
     "slide_type": "slide"
    }
   },
   "source": [
    "## 1a)\n",
    "Erstelle eine Funktion, welche jedes zweite Element in einer Liste entfernt und die neue Liste dann zurückgibt"
   ]
  },
  {
   "cell_type": "code",
   "execution_count": 9,
   "metadata": {
    "deletable": false,
    "nbgrader": {
     "cell_type": "code",
     "checksum": "7cf2877dff167a918af7bc8d8e9481de",
     "grade": false,
     "grade_id": "cell-remove_second",
     "locked": false,
     "schema_version": 3,
     "solution": true,
     "task": false
    },
    "slideshow": {
     "slide_type": "-"
    }
   },
   "outputs": [],
   "source": [
    "def remove_every_second_element(in_list: list) -> list:\n",
    "    r\"\"\"\n",
    "        Die Funktion erhält eine Liste *in_list* und gibt eine Liste zurück, in der jedes zweite Element fehlt.\n",
    "        \n",
    "        Beispiel\n",
    "        ========\n",
    "        >>> remove_every_second_element([0, 1, 2, 3, 4, 5])\n",
    "        [0, 2, 4]\n",
    "        >>> remove_every_second_element(['abc', 'Welle', 'kalt', 'Pferd', 'Apfel'])\n",
    "        ['abc', 'kalt', 'Apfel']\n",
    "    \"\"\"\n",
    "    # YOUR CODE HERE\n",
    "    return in_list[::2]"
   ]
  },
  {
   "cell_type": "markdown",
   "metadata": {
    "deletable": false,
    "editable": false,
    "nbgrader": {
     "cell_type": "markdown",
     "checksum": "6c9828a078cdb8a9c15898c94c067ecd",
     "grade": false,
     "grade_id": "cell-29a2654ed89165a1",
     "locked": true,
     "schema_version": 3,
     "solution": false,
     "task": false
    },
    "slideshow": {
     "slide_type": "subslide"
    }
   },
   "source": [
    "Nun ein paar Tests um die Funktionsfähigkeit zu überprüfen. Sollte es zu einem Fehler kommen, wird ein `AssertionError` zurückgegeben. Die angezeigten Tests sind nicht unbedingt alle die ausprobiert werden. Überlegen Sie sich daher selber Tests."
   ]
  },
  {
   "cell_type": "code",
   "execution_count": 11,
   "metadata": {
    "deletable": false,
    "editable": false,
    "nbgrader": {
     "cell_type": "code",
     "checksum": "9f50159e0e639d2c7b3827751bef2d15",
     "grade": true,
     "grade_id": "cell-test_remove_second",
     "locked": true,
     "points": 1,
     "schema_version": 3,
     "solution": false,
     "task": false
    },
    "slideshow": {
     "slide_type": "-"
    }
   },
   "outputs": [],
   "source": [
    "assert remove_every_second_element([0, 1, 2, 3, 4, 5]) == [0, 2, 4]\n",
    "assert remove_every_second_element(['abc', 'Welle', 'kalt', 'Pferd', 'Apfel']) == ['abc', 'kalt', 'Apfel']\n",
    "assert remove_every_second_element(list(range(0,10))) == list(range(0, 10, 2))"
   ]
  },
  {
   "cell_type": "markdown",
   "metadata": {
    "deletable": false,
    "editable": false,
    "nbgrader": {
     "cell_type": "markdown",
     "checksum": "edf5c3979e0e7386a79c838306d9bbfb",
     "grade": false,
     "grade_id": "cell-6821c03fac215348",
     "locked": true,
     "schema_version": 3,
     "solution": false,
     "task": false
    },
    "slideshow": {
     "slide_type": "slide"
    }
   },
   "source": [
    "## 1b)\n",
    "Erstelle eine Funktion, welche drei Strings bekommt und zu einem einzigen String zusammenfügt.\n",
    "Dabei gilt folgende Regel:\n",
    "* Aus jedem String wird der erste Buchstabe genommen zusammengeführt und anschließend der zweite aus jedem usw.\n",
    "* Ist ein String kürzer als die anderen gilt die obige Regel nur noch für zwei, dann einen der Strings"
   ]
  },
  {
   "cell_type": "code",
   "execution_count": 12,
   "metadata": {
    "deletable": false,
    "nbgrader": {
     "cell_type": "code",
     "checksum": "2e17bec20866e63255c65b53374d5388",
     "grade": false,
     "grade_id": "cell-join_strings",
     "locked": false,
     "schema_version": 3,
     "solution": true,
     "task": false
    },
    "slideshow": {
     "slide_type": "-"
    }
   },
   "outputs": [],
   "source": [
    "def join_strings(string_1: str, string_2: str, string_3: str) -> str:\n",
    "    r\"\"\"\n",
    "        Diese Funktion erhält drei *Strings* und gibt einen *String* zurück. Dabei werden nacheinander die\n",
    "        Buchstaben am Anfang zum neuen String hinzugefügt. Danach geht es mit dem nächsten Buchstaben weiter.\n",
    "        Sind ein oder zwei Strings kürzer, wird die Regel auf die Verbliebenen Strings angewendet.\n",
    "        \n",
    "        Beispiel\n",
    "        ========\n",
    "        >>> join_strings('abc', 'abc', 'abc')\n",
    "        'aaabbbccc'\n",
    "        >>> join_strings('Hl l', 'aoWt', 'l,e!')\n",
    "        'Hallo, Welt!'\n",
    "    \"\"\"\n",
    "    # YOUR CODE HERE\n",
    "    import itertools\n",
    "    msg = \"\"\n",
    "    for val1, val2, val3 in itertools.zip_longest(string_1, string_2, string_3):\n",
    "        msg += val1 + val2 + val3\n",
    "    return msg\n",
    "    "
   ]
  },
  {
   "cell_type": "code",
   "execution_count": 15,
   "metadata": {
    "deletable": false,
    "editable": false,
    "nbgrader": {
     "cell_type": "code",
     "checksum": "e57efff94a3298f58d0ce0d323e727b8",
     "grade": true,
     "grade_id": "cell-test_join_strings",
     "locked": true,
     "points": 1,
     "schema_version": 3,
     "solution": false,
     "task": false
    },
    "slideshow": {
     "slide_type": "subslide"
    }
   },
   "outputs": [],
   "source": [
    "assert join_strings('abc', 'abc', 'abc') == 'aaabbbccc'\n",
    "assert join_strings('Hl l', 'aoWt', 'l,e!') == 'Hallo, Welt!'"
   ]
  },
  {
   "cell_type": "markdown",
   "metadata": {
    "deletable": false,
    "editable": false,
    "nbgrader": {
     "cell_type": "markdown",
     "checksum": "24c92113a8a812af183928336637e75a",
     "grade": false,
     "grade_id": "cell-fdf3cdce062e41bd",
     "locked": true,
     "schema_version": 3,
     "solution": false,
     "task": false
    },
    "slideshow": {
     "slide_type": "slide"
    }
   },
   "source": [
    "## 1c)\n",
    "Erstelle eine Funktion, welche den Mittelwert, den Median und die Standardabweichung einer Liste von Zahlen als **Tuple** zurückgibt. Nutze dafür, wenn möglich, nur die Python Standardbibliothek.\n",
    "### Zur Erinnerung\n",
    "* Mittelwert https://de.wikipedia.org/wiki/Mittelwert\n",
    "* Median https://de.wikipedia.org/wiki/Median\n",
    "* Standardabweichung - https://de.wikipedia.org/wiki/Varianz_(Stochastik)"
   ]
  },
  {
   "cell_type": "code",
   "execution_count": 27,
   "metadata": {
    "deletable": false,
    "nbgrader": {
     "cell_type": "code",
     "checksum": "fe41d1e702e22ad7ce381d9d81f15a6c",
     "grade": false,
     "grade_id": "cell-statistics",
     "locked": false,
     "schema_version": 3,
     "solution": true,
     "task": false
    },
    "slideshow": {
     "slide_type": "-"
    }
   },
   "outputs": [],
   "source": [
    "def get_statistics(array: list) -> tuple:\n",
    "    r\"\"\"\n",
    "        Diese Funktion berechnet den Mittelwert, den Median und die Standardabweichung einer Liste von Zahlen.\n",
    "        \n",
    "        Beispiel\n",
    "        ========\n",
    "        >>> get_statistics([1, 2, 3, 4, 5, 6, 7, 8, 9])\n",
    "        (5, 5, 2.581989)\n",
    "        >>> get_statistics([10, 5, 8, 2, 1, 3, 9])\n",
    "        [5.42857, 5, 3.33197]\n",
    "    \"\"\"\n",
    "    # YOUR CODE HERE\n",
    "    lenArray = len(array)\n",
    "    mean = sum(array) / lenArray\n",
    "    \n",
    "    array.sort()\n",
    "    if (lenArray % 2 == 0): #even\n",
    "        median = (array[int(lenArray / 2) - 1] + array[int(lenArray / 2)]) / 2\n",
    "    else: # not even\n",
    "        median = array[int(lenArray / 2)]\n",
    "    \n",
    "    var = 0\n",
    "    for value in array:\n",
    "        var += (value - mean) ** 2\n",
    "    std = (var / (lenArray)) ** 0.5\n",
    "        \n",
    "    return mean, median, std"
   ]
  },
  {
   "cell_type": "code",
   "execution_count": 28,
   "metadata": {
    "deletable": false,
    "editable": false,
    "nbgrader": {
     "cell_type": "code",
     "checksum": "35a131a168c5bc34cc1681e69df0fe1a",
     "grade": true,
     "grade_id": "cell-test_statistics",
     "locked": true,
     "points": 1,
     "schema_version": 3,
     "solution": false,
     "task": false
    },
    "slideshow": {
     "slide_type": "subslide"
    }
   },
   "outputs": [],
   "source": [
    "mean, median, std = get_statistics([1, 2, 3, 4, 5, 6, 7, 8, 9])\n",
    "assert round(mean, 2) == 5.0\n",
    "assert round(median, 2) == 5.0\n",
    "assert round(std, 3) == 2.582\n",
    "mean, median, std = get_statistics([10, 5, 8, 2, 1, 3, 9])\n",
    "assert round(mean, 2) == 5.43\n",
    "assert round(median, 2) == 5.0\n",
    "assert round(std, 3) == 3.332"
   ]
  },
  {
   "cell_type": "markdown",
   "metadata": {
    "deletable": false,
    "editable": false,
    "nbgrader": {
     "cell_type": "markdown",
     "checksum": "3627bd24ced79607f35cbeca1cd9ad52",
     "grade": false,
     "grade_id": "cell-f342c7c4d67b33bc",
     "locked": true,
     "schema_version": 3,
     "solution": false,
     "task": false
    },
    "slideshow": {
     "slide_type": "slide"
    }
   },
   "source": [
    "## 1d)\n",
    "Erstelle eine Funktion, welche aus einem beliebigen String einen bestimmten Buchstaben komplett entfernt."
   ]
  },
  {
   "cell_type": "code",
   "execution_count": 29,
   "metadata": {
    "deletable": false,
    "nbgrader": {
     "cell_type": "code",
     "checksum": "9c689c7677a59e559048cf5dc3e4f43b",
     "grade": false,
     "grade_id": "cell-letter_filter",
     "locked": false,
     "schema_version": 3,
     "solution": true,
     "task": false
    },
    "slideshow": {
     "slide_type": "-"
    }
   },
   "outputs": [],
   "source": [
    "def filter_letter(string: str, taboo: str) -> str:\n",
    "    r\"\"\"\n",
    "        Diese Funktion filtert aus einen gegebenen String jedes Auftreten eines Buchstaben heraus. Buchstaben\n",
    "        können auch Zahlen oder sonstige ASCII Zeichen sein.\n",
    "        \n",
    "        Beispiel\n",
    "        ========\n",
    "        >>> filter_letter('Hxalxlxox, Wxxexlxt!', 'x')\n",
    "        'Hallo, Welt!'\n",
    "    \"\"\"\n",
    "    # YOUR CODE HERE\n",
    "    return string.replace(taboo, \"\")"
   ]
  },
  {
   "cell_type": "code",
   "execution_count": 30,
   "metadata": {
    "deletable": false,
    "editable": false,
    "nbgrader": {
     "cell_type": "code",
     "checksum": "7938945e94d543c160913659a8abeb96",
     "grade": true,
     "grade_id": "cell-test_letter_filter",
     "locked": true,
     "points": 1,
     "schema_version": 3,
     "solution": false,
     "task": false
    },
    "slideshow": {
     "slide_type": "subslide"
    }
   },
   "outputs": [],
   "source": [
    "assert filter_letter('Hxalxlxox, Wxxexlxt!', 'x') == 'Hallo, Welt!'\n",
    "assert filter_letter('asdflkbnlkernsdofinlniasdlfn', 'a') == 'sdflkbnlkernsdofinlnisdlfn'"
   ]
  },
  {
   "cell_type": "markdown",
   "metadata": {
    "deletable": false,
    "editable": false,
    "nbgrader": {
     "cell_type": "markdown",
     "checksum": "722e8f2467d5ebdfe1eef6ba08e1f07e",
     "grade": false,
     "grade_id": "cell-1979a719a4f59985",
     "locked": true,
     "schema_version": 3,
     "solution": false,
     "task": false
    },
    "slideshow": {
     "slide_type": "slide"
    }
   },
   "source": [
    "## 1e)\n",
    "Erstelle eine Funktion, welche eine Datein einließt und deren Inhalt übergibt.\n",
    "### Für die Tests:\n",
    "Es sollten sich folgende Datein im Verzeichnis dieses Notebooks befinden\n",
    "* `HalloWelt.txt`\n",
    "* `Hexeneinmaleins.txt`\n",
    "* `SPAM.txt`"
   ]
  },
  {
   "cell_type": "code",
   "execution_count": 40,
   "metadata": {
    "deletable": false,
    "nbgrader": {
     "cell_type": "code",
     "checksum": "a6c647127e30f12a9f68de891dd15420",
     "grade": false,
     "grade_id": "cell-data_reading",
     "locked": false,
     "schema_version": 3,
     "solution": true,
     "task": false
    },
    "slideshow": {
     "slide_type": "-"
    }
   },
   "outputs": [],
   "source": [
    "def data_reader(path: str) -> str:\n",
    "    r\"\"\"\n",
    "        Diese Funktion liest den Inhalt der unter *path* hinterlegten Datei und gibt dieses zurück.\n",
    "        \n",
    "        Beispiel\n",
    "        ========\n",
    "        >>> data_reader('HalloWelt.txt')\n",
    "        'Hallo, Welt!'\n",
    "    \"\"\"\n",
    "    # YOUR CODE HERE\n",
    "    s = open(path, \"r\", encoding='utf-8').read()\n",
    "    return s"
   ]
  },
  {
   "cell_type": "code",
   "execution_count": 41,
   "metadata": {
    "deletable": false,
    "editable": false,
    "nbgrader": {
     "cell_type": "code",
     "checksum": "29da8467f12aa152cbf5105938fdcbf5",
     "grade": true,
     "grade_id": "cell-test_data_reading",
     "locked": true,
     "points": 1,
     "schema_version": 3,
     "solution": false,
     "task": false
    },
    "slideshow": {
     "slide_type": "subslide"
    }
   },
   "outputs": [],
   "source": [
    "assert data_reader('HalloWelt.txt') == 'Hallo, Welt!'\n",
    "assert data_reader('Hexeneinmaleins.txt') == \"\"\"Du mußt verstehn!\\nAus Eins mach’ Zehn,\\nUnd Zwei laß gehn,\n",
    "Und Drei mach’ gleich,\\nSo bist Du reich.\\nVerlier’ die Vier!\\nAus Fünf und Sechs,\\nSo sagt die Hex’,\n",
    "Mach’ Sieben und Acht,\\nSo ist’s vollbracht:\\nUnd Neun ist Eins,\\nUnd Zehn ist keins.\n",
    "Das ist das Hexen-Einmal-Eins!\"\"\"\n",
    "assert data_reader('SPAM.txt') == \"\"\"Spam, Spam, Spam, lovely Spam\\nWonderful Spam, Lovely Spam.\n",
    "Spam, Spam, Spam, magnificent Spam,\\nSuperlative Spam.\\nSpam, Spam, Spam, wonderous Spam,\n",
    "Surgical Spam, splendiferous Spam.\\nSpam, Spam, Spam, Spaaam!\"\"\""
   ]
  }
 ],
 "metadata": {
  "kernelspec": {
   "display_name": "Python 3 (ipykernel)",
   "language": "python",
   "name": "python3"
  },
  "language_info": {
   "codemirror_mode": {
    "name": "ipython",
    "version": 3
   },
   "file_extension": ".py",
   "mimetype": "text/x-python",
   "name": "python",
   "nbconvert_exporter": "python",
   "pygments_lexer": "ipython3",
   "version": "3.11.2"
  }
 },
 "nbformat": 4,
 "nbformat_minor": 4
}
