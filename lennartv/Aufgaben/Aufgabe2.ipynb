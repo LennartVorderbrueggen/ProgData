{
 "cells": [
  {
   "cell_type": "markdown",
   "metadata": {
    "deletable": false,
    "editable": false,
    "nbgrader": {
     "cell_type": "markdown",
     "checksum": "0a7b7b0223bc8d9d770522c2254e4985",
     "grade": false,
     "grade_id": "cell-f36bcc18e21d4416",
     "locked": true,
     "schema_version": 3,
     "solution": false,
     "task": false
    }
   },
   "source": [
    "# Aufgabensatz 2\n",
    "## Into the rabbit hole\n",
    "Die Python Library https://docs.python.org/3/library/index.html bietet eine große Menge an Funktionalität, mit der sich viele Aufgaben deutlich vereinfachen lassen. In den folgenden Aufgaben sind die Pakete\n",
    "- https://docs.python.org/3/library/stdtypes.html#str\n",
    "- https://docs.python.org/3/library/re.html\n",
    "- https://docs.python.org/3/library/os.html\n",
    "- https://docs.python.org/3/library/os.path.html\n",
    "\n",
    "von Vorteil."
   ]
  },
  {
   "cell_type": "markdown",
   "metadata": {
    "deletable": false,
    "editable": false,
    "nbgrader": {
     "cell_type": "markdown",
     "checksum": "d07a061e59d98acfd54a514ce87d7c98",
     "grade": false,
     "grade_id": "cell-05f1a795125b76ca",
     "locked": true,
     "schema_version": 3,
     "solution": false,
     "task": false
    }
   },
   "source": [
    "## 2a)\n",
    "Finde in einem String alle Buchstabenfolgen *sch*.\n",
    "\n",
    "Beim Arbeiten mit freiem Text ist es oft notwendig nach bestimmten Mustern zu suchen: Mail-Adressen, Telefonnummern, Postanschriften. Dabei helfen Reguläre Ausdrücke."
   ]
  },
  {
   "cell_type": "code",
   "execution_count": 8,
   "metadata": {
    "deletable": false,
    "nbgrader": {
     "cell_type": "code",
     "checksum": "2862acfcfe629ebadf2a2953746a9d28",
     "grade": false,
     "grade_id": "cell-words_with_sch",
     "locked": false,
     "schema_version": 3,
     "solution": true,
     "task": false
    }
   },
   "outputs": [],
   "source": [
    "def words_with_sch(in_string: str) -> list:\n",
    "    r\"\"\"\n",
    "        Die Funktion erhält einen String und gibt jedes Wort zurück in dem sich ein *sch* befindet.\n",
    "        \n",
    "        Beispiel\n",
    "        ========\n",
    "        >>> words_with_sch('Ich ging als Mensch über ein Feld mit Röschen und schunkelte im Takt')\n",
    "        ['Mensch', 'Röschen', 'schunkelte']\n",
    "        >>> words_with_sch('Ich wünsche dir einen schönen Tag. Scheint die Sonne nicht?')\n",
    "        ['wünsche', 'schönen', 'Scheint']\n",
    "    \"\"\"\n",
    "    # YOUR CODE HERE\n",
    "    words = in_string.split(\" \")\n",
    "    matching = [word for word in words if \"SCH\" in word.upper()]\n",
    "    return matching"
   ]
  },
  {
   "cell_type": "code",
   "execution_count": 9,
   "metadata": {
    "deletable": false,
    "editable": false,
    "nbgrader": {
     "cell_type": "code",
     "checksum": "8f57842d2ed48dde349cd4897a919534",
     "grade": true,
     "grade_id": "cell-test_words_with_sch",
     "locked": true,
     "points": 1,
     "schema_version": 3,
     "solution": false,
     "task": false
    }
   },
   "outputs": [],
   "source": [
    "assert words_with_sch('Ich ging als Mensch über ein Feld mit Röschen und schunkelte im Takt') == ['Mensch', 'Röschen', 'schunkelte']\n",
    "assert words_with_sch('Ich wünsche dir einen schönen Tag. Scheint die Sonne nicht?') == ['wünsche', 'schönen', 'Scheint']"
   ]
  },
  {
   "cell_type": "markdown",
   "metadata": {
    "deletable": false,
    "editable": false,
    "nbgrader": {
     "cell_type": "markdown",
     "checksum": "81dff8f1426f2e025a2caf3f2f3d2419",
     "grade": false,
     "grade_id": "cell-a9f61b875b0ed565",
     "locked": true,
     "schema_version": 3,
     "solution": false,
     "task": false
    }
   },
   "source": [
    "## 2b)\n",
    "csv (Comma Separated Value) https://de.wikipedia.org/wiki/CSV_(Dateiformat) ist ein Dateiformat zum Austausch von\n",
    "strukturierten Daten. In der Python Library exsistiert bereits ein Modul um solche Datein zu parsen. Hier sollen Sie aber eine eigene Version davon schreiben. Dabei sollen auch andere Trenner als das Komma zugelassen werden, zum Beispiel Tabs `\\t`"
   ]
  },
  {
   "cell_type": "code",
   "execution_count": null,
   "metadata": {
    "deletable": false,
    "nbgrader": {
     "cell_type": "code",
     "checksum": "52962f76c364598fef8c4553f8a902e3",
     "grade": false,
     "grade_id": "cell-dsv",
     "locked": false,
     "schema_version": 3,
     "solution": true,
     "task": false
    }
   },
   "outputs": [],
   "source": [
    "def parse_dsv(delimited_string: str, delimiter: str = ',', header: bool = True) -> dict:\n",
    "    r\"\"\"\n",
    "        Erhält ein Dateiobjekt und optional einen Separator und verarbeitet diese wie eine delimiter separated\n",
    "        value Datei. Die erste Reihe des Strings wird dabei als Header genommen, wenn header=True. Ist kein header\n",
    "        vorhanden werden die Spalten durchnummeriert.\n",
    "        \n",
    "        Beispiel\n",
    "        ========\n",
    "        >>>parse_dsv(\"Tag,Einkommen,Ausgaben\\n1,100,5\\n2,0,5\\n3,0,12\\n4,0,9\")\n",
    "        {'Tag': [1, 2, 3, 4], 'Einkommen': [100, 0, 0, 0], Ausgaben: [5, 5, 12, 9]}\n",
    "        >>> parse_dsv('''Stunde\\tMontag\\tDienstag\\tMittwoch\\tDonnerstag\\tFreitag\n",
    "          1\\tMathematik\\tDeutsch\\tEnglisch\\tMathematik\\tKunst\\n2\\tSport\\tFranzösisch\\tGeschichte\\tSport\\tGeschichte\n",
    "          3\\tSport\\t\"Religion (ev, kath)\"\\tKunst\\t\\tKunst''', delimiter='\\t')\n",
    "        {'Stunde': [1, 2, 3], 'Montag': ['Mathemaik', 'Sport', 'Sport'],\n",
    "         'Dienstag': ['Deutsch', 'Französisch', 'Religion (ev, kath)'],\n",
    "         'Mittwoch': ['Englisch', 'Geschichte', 'Kunst'], 'Donnerstag': ['Mathematik', 'Sport', ''],\n",
    "         'Freitag': ['Kunst', 'Geschichte', 'Kunst']}\n",
    "    \"\"\"\n",
    "    # YOUR CODE HERE\n",
    "    obj = {}\n",
    "    columnNames = []\n",
    "    rows = delimited_string.split(\"\\n\")\n",
    "    for idxRow, row in enumerate(rows):\n",
    "      cells = row.split(delimiter)\n",
    "      for idxCell, cell in enumerate(cells):\n",
    "        columnName =  cell if header else \"column \" + str(idxCell + 1)\n",
    "        if (idxRow == 0):\n",
    "          columnNames.append(columnName)\n",
    "          obj[columnName] = []\n",
    "        else:\n",
    "          obj[columnNames[idxCell]].append(cell)\n",
    "          \n",
    "    return obj\n",
    "    \n",
    "assert parse_dsv(\"Tag,Einkommen,Ausgaben\\n1,100,5\\n2,0,5\\n3,0,12\\n4,0,9\") == {'Tag': [1, 2, 3, 4],\n",
    "                                                                              'Einkommen': [100, 0, 0, 0],\n",
    "                                                                              'Ausgaben': [5, 5, 12, 9]}"
   ]
  },
  {
   "cell_type": "code",
   "execution_count": null,
   "metadata": {
    "deletable": false,
    "editable": false,
    "nbgrader": {
     "cell_type": "code",
     "checksum": "1fda9f3c68cb2d796cbb0cc9d8f903e7",
     "grade": true,
     "grade_id": "cell-test_dsv",
     "locked": true,
     "points": 1,
     "schema_version": 3,
     "solution": false,
     "task": false
    }
   },
   "outputs": [],
   "source": [
    "\n",
    "assert parse_dsv(\"\"\"Stunde\\tMontag\\tDienstag\\tMittwoch\\tDonnerstag\\tFreitag\n",
    "1\\tMathematik\\tDeutsch\\tEnglisch\\tMathematik\\tKunst\n",
    "2\\tSport\\tFranzösisch\\tGeschichte\\tSport\\tGeschichte\n",
    "3\\tSport\\t\"Religion (ev, kath)\"\\tKunst\\t\\tKunst\"\"\", delimiter='\\t') == {\n",
    "    'Stunde': [1, 2, 3], 'Montag': ['Mathematik', 'Sport', 'Sport'],\n",
    "    'Dienstag': ['Deutsch', 'Französisch', 'Religion (ev, kath)'],\n",
    "    'Mittwoch': ['Englisch', 'Geschichte', 'Kunst'], 'Donnerstag': ['Mathematik', 'Sport', ''],\n",
    "    'Freitag': ['Kunst', 'Geschichte', 'Kunst']\n",
    "}"
   ]
  },
  {
   "cell_type": "markdown",
   "metadata": {
    "deletable": false,
    "editable": false,
    "nbgrader": {
     "cell_type": "markdown",
     "checksum": "ca33bf27d5cbaa699fcb72c85c9c5c00",
     "grade": false,
     "grade_id": "cell-2180b1edcb68d6d7",
     "locked": true,
     "schema_version": 3,
     "solution": false,
     "task": false
    }
   },
   "source": [
    "## 2c)\n",
    "Selten befinden sich alle Daten in einer einzigen Datei. Manchmal gibt es sogar für jeden Datensatz eine eigene Datei. Hier ist es hilfreich ganze Ordner nach Dateien zu durchsuchen und alle passenden zu bearbeiten.\n",
    "\n",
    "Schreibe eine Funktion, welche einen Pfad erhält und eine Dateiendung. Die Funktion öffnet **und schließt** alle Dateien in dem Ordner und gibt deren Inhalt als Liste von Strings zurück\n",
    "\n",
    "## Tipp\n",
    "Schauen Sie sich das `os` Modul an, dort gibt es einen sehr hilfreiche Funktionen mit https://docs.python.org/3/library/os.html#os.scandir und https://docs.python.org/3/library/os.html#os.listdir"
   ]
  },
  {
   "cell_type": "code",
   "execution_count": 7,
   "metadata": {
    "deletable": false,
    "nbgrader": {
     "cell_type": "code",
     "checksum": "b2e0b011b679351e677e85532dd9d8e0",
     "grade": false,
     "grade_id": "cell-7e26066af94cfb1c",
     "locked": false,
     "schema_version": 3,
     "solution": true,
     "task": false
    }
   },
   "outputs": [],
   "source": [
    "def search_directory(directory: str, file_ending: str) -> list:\n",
    "    r\"\"\"\n",
    "        Durchsucht die gegebene *directory* nach allen Dateien mit Endung *file_ending* und gibt deren Inhalt in\n",
    "        einer Liste aus\n",
    "        \n",
    "        Beispiel\n",
    "        ========\n",
    "        >>> search_directory('probe/', file_ending='txt')\n",
    "        [\"Du mußt verstehn!\", \"Aus Eins mach’ Zehn,\", \"Und Zwei laß gehn,\", \"Und Drei mach’ gleich,\",\n",
    "         \"So bist Du reich.\", \"Verlier’ die Vier!\", \"Aus Fünf und Sechs,\", \"So sagt die Hex’,\",\n",
    "         \"Mach’ Sieben und Acht,\", \"So ist’s vollbracht:\", \"Und Neun ist Eins,\", \"Und Zehn ist keins.\",\n",
    "         \"Das ist das Hexen-Einmal-Eins!\"]\n",
    "    \"\"\"\n",
    "    # YOUR CODE HERE\n",
    "    # from os import walk\n",
    "    # f = []\n",
    "    # for root, dirs, files in walk(directory):\n",
    "    #     for file in files:\n",
    "    #         f.append(open(file, \"r\", encoding='utf-8').read())\n",
    "    import glob\n",
    "    \n",
    "    searchPattern = directory + \"*.\" + file_ending\n",
    "    files = glob.glob(searchPattern)\n",
    "    f = []\n",
    "    for file in files:\n",
    "        f.append(open(file, \"r\", encoding='utf-8').read().replace(\"\\n\", \"\"))\n",
    "    return f"
   ]
  },
  {
   "cell_type": "code",
   "execution_count": 8,
   "metadata": {
    "deletable": false,
    "editable": false,
    "nbgrader": {
     "cell_type": "code",
     "checksum": "020a22a2966595e9fddbfba622fd5363",
     "grade": true,
     "grade_id": "cell-e36716ce8bd7c340",
     "locked": true,
     "points": 1,
     "schema_version": 3,
     "solution": false,
     "task": false
    }
   },
   "outputs": [],
   "source": [
    "assert search_directory('probe/', file_ending='txt') == [\n",
    "    \"Du mußt verstehn!\", \"Aus Eins mach’ Zehn,\", \"Und Zwei laß gehn,\", \"Und Drei mach’ gleich,\",\n",
    "    \"So bist Du reich.\", \"Verlier’ die Vier!\", \"Aus Fünf und Sechs,\", \"So sagt die Hex’,\",\n",
    "    \"Mach’ Sieben und Acht,\", \"So ist’s vollbracht:\", \"Und Neun ist Eins,\", \"Und Zehn ist keins.\",\n",
    "    \"Das ist das Hexen-Einmal-Eins!\"\n",
    "]"
   ]
  },
  {
   "cell_type": "markdown",
   "metadata": {
    "deletable": false,
    "editable": false,
    "nbgrader": {
     "cell_type": "markdown",
     "checksum": "a389cf99f43f971c96a70c9eb500456f",
     "grade": false,
     "grade_id": "cell-6821c03fac215348",
     "locked": true,
     "schema_version": 3,
     "solution": false,
     "task": false
    }
   },
   "source": [
    "## 2d)\n",
    "Suche in einer Datei alle Email Adressen und Telefonnummern. Die Email Adressen haben dabei das Format\n",
    "\n",
    "`<vorname>.<nachname>@<firma>.<endung>`\n",
    "\n",
    "Die `<endung>` sind entweder 2 Buchstaben, wie etwa `de` oder 3 Buchstaben `com`.\n",
    "\n",
    "Die Telefonnummern haben das Format\n",
    "\n",
    "`+<land> (<region>) <nummer>`\n",
    "\n",
    "`<land>` ist eine 1 bis 3 stellige `(<region>)` ist optional und hat eine beliebige Länge. Die `<nummer>` hat ebenfalls eine beliebige Länge"
   ]
  },
  {
   "cell_type": "code",
   "execution_count": 25,
   "metadata": {
    "deletable": false,
    "nbgrader": {
     "cell_type": "code",
     "checksum": "ba93b11590cb849f7fab5a2f1aaf3fe0",
     "grade": false,
     "grade_id": "cell-search_contacts",
     "locked": false,
     "schema_version": 3,
     "solution": true,
     "task": false
    }
   },
   "outputs": [
    {
     "ename": "KeyboardInterrupt",
     "evalue": "",
     "output_type": "error",
     "traceback": [
      "\u001b[1;31m---------------------------------------------------------------------------\u001b[0m",
      "\u001b[1;31mKeyboardInterrupt\u001b[0m                         Traceback (most recent call last)",
      "Cell \u001b[1;32mIn[25], line 29\u001b[0m\n\u001b[0;32m     26\u001b[0m         contacts\u001b[39m.\u001b[39mappend([email, number])\n\u001b[0;32m     27\u001b[0m     \u001b[39mreturn\u001b[39;00m contacts\n\u001b[1;32m---> 29\u001b[0m \u001b[39massert\u001b[39;00m search_contacts(\u001b[39m\"\u001b[39;49m\u001b[39mlaura.mueller@un.com +123 985123045 bernd.koehler@finanzen.net +49 (30) 221478\u001b[39;49m\u001b[39m\"\u001b[39;49m) \u001b[39m==\u001b[39m [\n\u001b[0;32m     30\u001b[0m     [\u001b[39m\"\u001b[39m\u001b[39mbernd.koehler@finanzen.net\u001b[39m\u001b[39m\"\u001b[39m, \u001b[39m\"\u001b[39m\u001b[39mlaura.mueller@un.com\u001b[39m\u001b[39m\"\u001b[39m], [\u001b[39m\"\u001b[39m\u001b[39m+123 985123045\u001b[39m\u001b[39m\"\u001b[39m, \u001b[39m\"\u001b[39m\u001b[39m+49 (30) 221478\u001b[39m\u001b[39m\"\u001b[39m]\n\u001b[0;32m     31\u001b[0m ]\n",
      "Cell \u001b[1;32mIn[25], line 24\u001b[0m, in \u001b[0;36msearch_contacts\u001b[1;34m(in_string)\u001b[0m\n\u001b[0;32m     22\u001b[0m phone_regex \u001b[39m=\u001b[39m \u001b[39mr\u001b[39m\u001b[39m'\u001b[39m\u001b[39m\\\u001b[39m\u001b[39m+\u001b[39m\u001b[39m\\\u001b[39m\u001b[39md\u001b[39m\u001b[39m{\u001b[39m\u001b[39m1,3}\u001b[39m\u001b[39m\\\u001b[39m\u001b[39ms(\u001b[39m\u001b[39m\\\u001b[39m\u001b[39m(\u001b[39m\u001b[39m\\\u001b[39m\u001b[39md\u001b[39m\u001b[39m{\u001b[39m\u001b[39m1,3}\u001b[39m\u001b[39m\\\u001b[39m\u001b[39m))?(\u001b[39m\u001b[39m\\\u001b[39m\u001b[39md\u001b[39m\u001b[39m{\u001b[39m\u001b[39m1,3})?\u001b[39m\u001b[39m\\\u001b[39m\u001b[39ms\u001b[39m\u001b[39m\\\u001b[39m\u001b[39md\u001b[39m\u001b[39m{\u001b[39m\u001b[39m6,9}\u001b[39m\u001b[39m'\u001b[39m\n\u001b[0;32m     23\u001b[0m phoneNumbers \u001b[39m=\u001b[39m re\u001b[39m.\u001b[39mfindall(phone_regex, in_string)\n\u001b[1;32m---> 24\u001b[0m contacts \u001b[39m=\u001b[39m []\n\u001b[0;32m     25\u001b[0m \u001b[39mfor\u001b[39;00m email, number \u001b[39min\u001b[39;00m \u001b[39mzip\u001b[39m(emailAdresses, phoneNumbers):\n\u001b[0;32m     26\u001b[0m     contacts\u001b[39m.\u001b[39mappend([email, number])\n",
      "Cell \u001b[1;32mIn[25], line 24\u001b[0m, in \u001b[0;36msearch_contacts\u001b[1;34m(in_string)\u001b[0m\n\u001b[0;32m     22\u001b[0m phone_regex \u001b[39m=\u001b[39m \u001b[39mr\u001b[39m\u001b[39m'\u001b[39m\u001b[39m\\\u001b[39m\u001b[39m+\u001b[39m\u001b[39m\\\u001b[39m\u001b[39md\u001b[39m\u001b[39m{\u001b[39m\u001b[39m1,3}\u001b[39m\u001b[39m\\\u001b[39m\u001b[39ms(\u001b[39m\u001b[39m\\\u001b[39m\u001b[39m(\u001b[39m\u001b[39m\\\u001b[39m\u001b[39md\u001b[39m\u001b[39m{\u001b[39m\u001b[39m1,3}\u001b[39m\u001b[39m\\\u001b[39m\u001b[39m))?(\u001b[39m\u001b[39m\\\u001b[39m\u001b[39md\u001b[39m\u001b[39m{\u001b[39m\u001b[39m1,3})?\u001b[39m\u001b[39m\\\u001b[39m\u001b[39ms\u001b[39m\u001b[39m\\\u001b[39m\u001b[39md\u001b[39m\u001b[39m{\u001b[39m\u001b[39m6,9}\u001b[39m\u001b[39m'\u001b[39m\n\u001b[0;32m     23\u001b[0m phoneNumbers \u001b[39m=\u001b[39m re\u001b[39m.\u001b[39mfindall(phone_regex, in_string)\n\u001b[1;32m---> 24\u001b[0m contacts \u001b[39m=\u001b[39m []\n\u001b[0;32m     25\u001b[0m \u001b[39mfor\u001b[39;00m email, number \u001b[39min\u001b[39;00m \u001b[39mzip\u001b[39m(emailAdresses, phoneNumbers):\n\u001b[0;32m     26\u001b[0m     contacts\u001b[39m.\u001b[39mappend([email, number])\n",
      "File \u001b[1;32mc:\\Users\\Startklar\\AppData\\Local\\Programs\\Python\\Python311\\Lib\\site-packages\\debugpy\\_vendored\\pydevd\\_pydevd_bundle\\pydevd_frame.py:1197\u001b[0m, in \u001b[0;36mPyDBFrame.trace_dispatch\u001b[1;34m(self, frame, event, arg)\u001b[0m\n\u001b[0;32m   1195\u001b[0m \u001b[39mif\u001b[39;00m is_line:\n\u001b[0;32m   1196\u001b[0m     \u001b[39mself\u001b[39m\u001b[39m.\u001b[39mset_suspend(thread, step_cmd, original_step_cmd\u001b[39m=\u001b[39minfo\u001b[39m.\u001b[39mpydev_original_step_cmd)\n\u001b[1;32m-> 1197\u001b[0m     \u001b[39mself\u001b[39;49m\u001b[39m.\u001b[39;49mdo_wait_suspend(thread, frame, event, arg)\n\u001b[0;32m   1198\u001b[0m \u001b[39melif\u001b[39;00m is_return:  \u001b[39m# return event\u001b[39;00m\n\u001b[0;32m   1199\u001b[0m     back \u001b[39m=\u001b[39m frame\u001b[39m.\u001b[39mf_back\n",
      "File \u001b[1;32mc:\\Users\\Startklar\\AppData\\Local\\Programs\\Python\\Python311\\Lib\\site-packages\\debugpy\\_vendored\\pydevd\\_pydevd_bundle\\pydevd_frame.py:165\u001b[0m, in \u001b[0;36mPyDBFrame.do_wait_suspend\u001b[1;34m(self, *args, **kwargs)\u001b[0m\n\u001b[0;32m    164\u001b[0m \u001b[39mdef\u001b[39;00m \u001b[39mdo_wait_suspend\u001b[39m(\u001b[39mself\u001b[39m, \u001b[39m*\u001b[39margs, \u001b[39m*\u001b[39m\u001b[39m*\u001b[39mkwargs):\n\u001b[1;32m--> 165\u001b[0m     \u001b[39mself\u001b[39;49m\u001b[39m.\u001b[39;49m_args[\u001b[39m0\u001b[39;49m]\u001b[39m.\u001b[39;49mdo_wait_suspend(\u001b[39m*\u001b[39;49margs, \u001b[39m*\u001b[39;49m\u001b[39m*\u001b[39;49mkwargs)\n",
      "File \u001b[1;32mc:\\Users\\Startklar\\AppData\\Local\\Programs\\Python\\Python311\\Lib\\site-packages\\debugpy\\_vendored\\pydevd\\pydevd.py:2070\u001b[0m, in \u001b[0;36mPyDB.do_wait_suspend\u001b[1;34m(self, thread, frame, event, arg, exception_type)\u001b[0m\n\u001b[0;32m   2067\u001b[0m             from_this_thread\u001b[39m.\u001b[39mappend(frame_custom_thread_id)\n\u001b[0;32m   2069\u001b[0m     \u001b[39mwith\u001b[39;00m \u001b[39mself\u001b[39m\u001b[39m.\u001b[39m_threads_suspended_single_notification\u001b[39m.\u001b[39mnotify_thread_suspended(thread_id, thread, stop_reason):\n\u001b[1;32m-> 2070\u001b[0m         keep_suspended \u001b[39m=\u001b[39m \u001b[39mself\u001b[39;49m\u001b[39m.\u001b[39;49m_do_wait_suspend(thread, frame, event, arg, suspend_type, from_this_thread, frames_tracker)\n\u001b[0;32m   2072\u001b[0m frames_list \u001b[39m=\u001b[39m \u001b[39mNone\u001b[39;00m\n\u001b[0;32m   2074\u001b[0m \u001b[39mif\u001b[39;00m keep_suspended:\n\u001b[0;32m   2075\u001b[0m     \u001b[39m# This means that we should pause again after a set next statement.\u001b[39;00m\n",
      "File \u001b[1;32mc:\\Users\\Startklar\\AppData\\Local\\Programs\\Python\\Python311\\Lib\\site-packages\\debugpy\\_vendored\\pydevd\\pydevd.py:2106\u001b[0m, in \u001b[0;36mPyDB._do_wait_suspend\u001b[1;34m(self, thread, frame, event, arg, suspend_type, from_this_thread, frames_tracker)\u001b[0m\n\u001b[0;32m   2103\u001b[0m         \u001b[39mself\u001b[39m\u001b[39m.\u001b[39m_call_input_hook()\n\u001b[0;32m   2105\u001b[0m     \u001b[39mself\u001b[39m\u001b[39m.\u001b[39mprocess_internal_commands()\n\u001b[1;32m-> 2106\u001b[0m     time\u001b[39m.\u001b[39msleep(\u001b[39m0.01\u001b[39m)\n\u001b[0;32m   2108\u001b[0m \u001b[39mself\u001b[39m\u001b[39m.\u001b[39mcancel_async_evaluation(get_current_thread_id(thread), \u001b[39mstr\u001b[39m(\u001b[39mid\u001b[39m(frame)))\n\u001b[0;32m   2110\u001b[0m \u001b[39m# process any stepping instructions\u001b[39;00m\n",
      "\u001b[1;31mKeyboardInterrupt\u001b[0m: "
     ]
    }
   ],
   "source": [
    "def search_contacts(in_string: str) -> list:\n",
    "    r\"\"\"\n",
    "        Diese Funktion erhält einen String, in dem sich Telefonnummern und Email Adressen befinden. Die Funktion \n",
    "        gibt zwei **sortierte** Listen zurück.\n",
    "        \n",
    "        Beispiel\n",
    "        ========\n",
    "        >>> search_contacts(\"laura.mueller@un.com +123 985123045 bernd.koehler@finanzen.net +49 (30) 221478\")\n",
    "        [[\"bernd.koehler@finanzen.net\", \"laura.mueller@un.com\"], [\"+123 985123045\", \"+49 (30) 221478\"]]\n",
    "    \"\"\"\n",
    "    # Explanation:\n",
    "\n",
    "    # \\+ matches the plus sign.\n",
    "    # \\d{1,3} matches between one and three digits for the country code.\n",
    "    # \\s matches a whitespace character.\n",
    "    # (\\(\\d{1,3}\\))? makes the group of up to three digits enclosed in parentheses optional.\n",
    "    # (\\d{1,3})? makes the group of up to three digits without parentheses optional.\n",
    "    # \\s matches a whitespace character.\n",
    "    # \\d{6,9} matches any sequence of between six and nine digits for the phone number.\n",
    "    \n",
    "    import re\n",
    "    email_regex = r'[\\w.+-]+@[\\w-]+\\.[\\w.-]+'\n",
    "    emailAdresses = re.findall(email_regex, in_string)\n",
    "    phone_regex = r'\\+\\d{1,3}\\s(\\(\\d{1,3}\\))?(\\d{1,3})?\\s\\d{6,9}'\n",
    "    phoneNumbers = re.findall(phone_regex, in_string)\n",
    "    contacts = []\n",
    "    for email, number in zip(emailAdresses, phoneNumbers):\n",
    "        contacts.append([email, number])\n",
    "    return contacts\n",
    "    \n",
    "assert search_contacts(\"laura.mueller@un.com +123 985123045 bernd.koehler@finanzen.net +49 (30) 221478\") == [\n",
    "    [\"bernd.koehler@finanzen.net\", \"laura.mueller@un.com\"], [\"+123 985123045\", \"+49 (30) 221478\"]\n",
    "]"
   ]
  },
  {
   "cell_type": "code",
   "execution_count": 10,
   "metadata": {
    "deletable": false,
    "editable": false,
    "nbgrader": {
     "cell_type": "code",
     "checksum": "14fdb005fee51c02911231a7fb818b51",
     "grade": true,
     "grade_id": "cell-test_search_contacts",
     "locked": true,
     "points": 1,
     "schema_version": 3,
     "solution": false,
     "task": false
    }
   },
   "outputs": [
    {
     "ename": "AssertionError",
     "evalue": "",
     "output_type": "error",
     "traceback": [
      "\u001b[1;31m---------------------------------------------------------------------------\u001b[0m",
      "\u001b[1;31mAssertionError\u001b[0m                            Traceback (most recent call last)",
      "Cell \u001b[1;32mIn[10], line 1\u001b[0m\n\u001b[1;32m----> 1\u001b[0m \u001b[39massert\u001b[39;00m search_contacts(\u001b[39m\"\u001b[39m\u001b[39mlaura.mueller@un.com +123 985123045 bernd.koehler@finanzen.net +49 (30) 221478\u001b[39m\u001b[39m\"\u001b[39m) \u001b[39m==\u001b[39m [\n\u001b[0;32m      2\u001b[0m     [\u001b[39m\"\u001b[39m\u001b[39mbernd.koehler@finanzen.net\u001b[39m\u001b[39m\"\u001b[39m, \u001b[39m\"\u001b[39m\u001b[39mlaura.mueller@un.com\u001b[39m\u001b[39m\"\u001b[39m], [\u001b[39m\"\u001b[39m\u001b[39m+123 985123045\u001b[39m\u001b[39m\"\u001b[39m, \u001b[39m\"\u001b[39m\u001b[39m+49 (30) 221478\u001b[39m\u001b[39m\"\u001b[39m]\n\u001b[0;32m      3\u001b[0m ]\n",
      "\u001b[1;31mAssertionError\u001b[0m: "
     ]
    }
   ],
   "source": []
  }
 ],
 "metadata": {
  "kernelspec": {
   "display_name": "Python 3 (ipykernel)",
   "language": "python",
   "name": "python3"
  },
  "language_info": {
   "codemirror_mode": {
    "name": "ipython",
    "version": 3
   },
   "file_extension": ".py",
   "mimetype": "text/x-python",
   "name": "python",
   "nbconvert_exporter": "python",
   "pygments_lexer": "ipython3",
   "version": "3.11.2"
  }
 },
 "nbformat": 4,
 "nbformat_minor": 4
}
